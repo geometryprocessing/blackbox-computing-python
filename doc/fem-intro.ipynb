{
 "cells": [
  {
   "cell_type": "markdown",
   "metadata": {
    "slideshow": {
     "slide_type": "slide"
    }
   },
   "source": [
    "# FEM Introduction"
   ]
  },
  {
   "cell_type": "markdown",
   "metadata": {
    "slideshow": {
     "slide_type": "slide"
    }
   },
   "source": [
    "Let $\\Omega$ be the domain, we aim at solving the Laplace equation (in 1D):\n",
    "\\\\[-\\Delta u(x) = -\\frac{\\partial^2}{\\partial x^2}u(x) =0\\\\]"
   ]
  },
  {
   "cell_type": "markdown",
   "metadata": {
    "slideshow": {
     "slide_type": "fragment"
    }
   },
   "source": [
    "Subject to boundary conditions $g$\n",
    "\\\\[u|_{\\partial\\Omega} = g,\\\\]\n",
    "\n",
    "where \\\\(u|_{\\partial\\Omega}\\\\) is the boundary of \\\\(\\Omega\\\\)."
   ]
  },
  {
   "cell_type": "markdown",
   "metadata": {
    "slideshow": {
     "slide_type": "fragment"
    }
   },
   "source": [
    "In 1D, the boundaries are the 2 endpoints \\\\(\\Omega_0\\\\) and \\\\(\\Omega_1\\\\), so the boundary conditions are:\n",
    "\n",
    "\\\\[\n",
    "u(\\Omega_0) = u_0\\qquad\\mathrm{and}\\qquad u(\\Omega_1) = u_1.\n",
    "\\\\]"
   ]
  },
  {
   "cell_type": "markdown",
   "metadata": {
    "slideshow": {
     "slide_type": "slide"
    }
   },
   "source": [
    "# Weak Form"
   ]
  },
  {
   "cell_type": "markdown",
   "metadata": {
    "slideshow": {
     "slide_type": "-"
    }
   },
   "source": [
    "Instread of solving\n",
    "\\\\[-\\Delta u =0\\\\]"
   ]
  },
  {
   "cell_type": "markdown",
   "metadata": {
    "slideshow": {
     "slide_type": "fragment"
    }
   },
   "source": [
    "we multiply it by a **test function** \\\\(v\\\\) and integrate over the domain\n",
    "\n",
    "\\\\[-\\int_\\Omega\\Delta u v =0, \\qquad \\forall v.\\\\]"
   ]
  },
  {
   "cell_type": "markdown",
   "metadata": {
    "slideshow": {
     "slide_type": "fragment"
    }
   },
   "source": [
    "This equation is called **weak form** of the original PDE."
   ]
  },
  {
   "cell_type": "markdown",
   "metadata": {
    "slideshow": {
     "slide_type": "fragment"
    }
   },
   "source": [
    "If it holds **for any** \\\\(v\\\\), then \\\\(u\\\\) is also a solution of the original PDE (**strong form**)."
   ]
  },
  {
   "cell_type": "markdown",
   "metadata": {
    "slideshow": {
     "slide_type": "slide"
    }
   },
   "source": [
    "We use [integration by parts](https://en.wikipedia.org/wiki/Integration_by_parts) to simplify the weak form\n",
    "\n",
    "\\\\[-\\int_\\Omega\\Delta u v = \\\\]"
   ]
  },
  {
   "cell_type": "markdown",
   "metadata": {
    "slideshow": {
     "slide_type": "fragment"
    }
   },
   "source": [
    "\\\\[\n",
    "=-\\Bigg(\\bigg[\\nabla u\\, v \\bigg]\\_{\\Omega_0}^{\\Omega_1}-\\int\\_\\Omega\\nabla u \\cdot \\nabla v\\Bigg) =\n",
    "\\\\]"
   ]
  },
  {
   "cell_type": "markdown",
   "metadata": {
    "slideshow": {
     "slide_type": "fragment"
    }
   },
   "source": [
    "\\\\[=\\int_\\Omega\\nabla u \\cdot \\nabla v = 0, \\qquad \\forall v\\\\]"
   ]
  },
  {
   "cell_type": "markdown",
   "metadata": {
    "slideshow": {
     "slide_type": "slide"
    }
   },
   "source": [
    "# Discretization"
   ]
  },
  {
   "cell_type": "markdown",
   "metadata": {
    "slideshow": {
     "slide_type": "-"
    }
   },
   "source": [
    "We express the unknown function $u$ in terms of a **dicrete** basis \\\\(\\phi_i\\\\), \\\\(i=0,\\dots,n\\\\).\n",
    "\n",
    "\\\\[u(x)=\\sum_{i=0}^n u_i \\phi_i(x)\\\\]"
   ]
  },
  {
   "cell_type": "markdown",
   "metadata": {
    "slideshow": {
     "slide_type": "slide"
    }
   },
   "source": [
    "We insert this definition in the weak form\n",
    "\n",
    "\\\\[\n",
    " \\int_\\Omega\\nabla \\sum_{i=0}^n(u_i  \\phi_i) \\cdot \\nabla v =\n",
    "\\sum_{i=0}^n u_i \\int_\\Omega\\nabla   \\phi_i \\cdot \\nabla v\n",
    "= 0, \\qquad \\forall v\\\\]"
   ]
  },
  {
   "cell_type": "markdown",
   "metadata": {
    "slideshow": {
     "slide_type": "fragment"
    }
   },
   "source": [
    "We use the same bases \\\\(\\phi_j\\\\) for \\\\(v\\\\) and plug it in the weak form\n",
    "\n",
    "\\\\[\\sum_{i=0}^n u_i \\int_\\Omega\\nabla \\phi_i \\cdot \\nabla \\phi_j = 0, \\qquad \\forall j=0,\\dots,n\\\\]"
   ]
  },
  {
   "cell_type": "markdown",
   "metadata": {
    "slideshow": {
     "slide_type": "fragment"
    }
   },
   "source": [
    "This expression can be rewritten in matrix form\n",
    "\\\\[\n",
    "L \\vec{u}  =0,\\qquad\\mathrm{where}\\qquad\n",
    "L_{i,j} = \\int_\\Omega\\nabla \\phi_i \\cdot \\nabla \\phi_j\n",
    "\\\\]\n",
    "and \\\\(\\vec{u}\\\\) is the vector containing the \\\\(u_i\\\\)."
   ]
  },
  {
   "cell_type": "markdown",
   "metadata": {
    "slideshow": {
     "slide_type": "slide"
    }
   },
   "source": [
    "# Example"
   ]
  },
  {
   "cell_type": "code",
   "execution_count": null,
   "metadata": {},
   "outputs": [],
   "source": [
    "import numpy as np\n",
    "import scipy.sparse as spr\n",
    "from scipy.sparse.linalg import spsolve\n",
    "\n",
    "import plotly.offline as plotly\n",
    "import plotly.graph_objects as go\n",
    "import plotly.figure_factory as ff"
   ]
  },
  {
   "cell_type": "code",
   "execution_count": null,
   "metadata": {},
   "outputs": [],
   "source": [
    "# For static visualization\n",
    "import plotly.io as pio\n",
    "pio.renderers.default = \"svg\"\n",
    "\n",
    "# For interactive visualization\n",
    "#pio.renderers.defaut = \"notebook\""
   ]
  },
  {
   "cell_type": "markdown",
   "metadata": {
    "slideshow": {
     "slide_type": "slide"
    }
   },
   "source": [
    "The domain \\\\(\\Omega = [0, 1]\\\\), which we discretize with \\\\(n_{el}\\\\) segments (or elements) \\\\(s_i\\\\)"
   ]
  },
  {
   "cell_type": "code",
   "execution_count": null,
   "metadata": {
    "slideshow": {
     "slide_type": "fragment"
    }
   },
   "outputs": [],
   "source": [
    "#domain\n",
    "omega = np.array([0, 1])\n",
    "\n",
    "#number of bases and elements\n",
    "n_el = 10\n",
    "n_bases = n_el + 1\n",
    "\n",
    "#segments\n",
    "s = np.linspace(omega[0], omega[1], num=n_el+1)\n",
    "# s = np.cumsum(np.random.rand(n_elements+1))\n",
    "s = (s-s[0])/(s[-1]-s[0])\n",
    "\n",
    "#plot\n",
    "go.Figure(data=[go.Scatter(x=s, y=np.zeros(s.shape), mode='lines+markers')])"
   ]
  },
  {
   "cell_type": "markdown",
   "metadata": {
    "slideshow": {
     "slide_type": "slide"
    }
   },
   "source": [
    "We can split the integrals in the weak form\n",
    "\n",
    "\\\\[\\sum_{i=0}^n u_i \\int_\\Omega\\nabla \\phi_i \\cdot \\nabla \\phi_j = 0, \\qquad \\forall j=0,\\dots,n\\\\]\n",
    "from the whole domain \\\\(\\Omega\\\\) to each individual element \\\\(s_e\\\\)."
   ]
  },
  {
   "cell_type": "markdown",
   "metadata": {
    "slideshow": {
     "slide_type": "fragment"
    }
   },
   "source": [
    "\\\\[\n",
    "%\\sum_{i=0}^n u_i \\int_\\Omega\\nabla \\phi_i \\cdot \\nabla \\phi_j =\n",
    "\\sum_{i=0}^n  u_i \\sum_{e=0}^{n_{el}} \\int_{s_e}\\nabla \\phi_i \\cdot \\nabla \\phi_j = 0, \\qquad \\forall j=0,\\dots,n\\\\]"
   ]
  },
  {
   "cell_type": "markdown",
   "metadata": {
    "slideshow": {
     "slide_type": "slide"
    }
   },
   "source": [
    "We want to have interpolatory bases, so let's have value 1 over the node and 0 everywhere else"
   ]
  },
  {
   "cell_type": "code",
   "execution_count": null,
   "metadata": {
    "slideshow": {
     "slide_type": "-"
    }
   },
   "outputs": [],
   "source": [
    "phis = []\n",
    "\n",
    "for i in range(n_bases):\n",
    "    phi = np.zeros(s.shape)\n",
    "    phi[i] = 1\n",
    "    phis.append(go.Scatter(x=s, y=phi, mode='lines+markers', name=\"$\\phi_{{{}}}$\".format(i)))\n",
    "\n",
    "go.Figure(data=phis)"
   ]
  },
  {
   "cell_type": "markdown",
   "metadata": {
    "slideshow": {
     "slide_type": "slide"
    }
   },
   "source": [
    "# Local bases"
   ]
  },
  {
   "cell_type": "markdown",
   "metadata": {
    "slideshow": {
     "slide_type": "-"
    }
   },
   "source": [
    "We want to localize the bases, since every piece looks similar.\n",
    "\n",
    "For simplicity we define the **reference element** \\\\(\\hat s= [0, 1]\\\\), a segment of unit length."
   ]
  },
  {
   "cell_type": "markdown",
   "metadata": {
    "slideshow": {
     "slide_type": "fragment"
    }
   },
   "source": [
    "On each element we have only 2 **non-zero** local bases. We define their \"pieces\" on \\\\(\\hat s\\\\)."
   ]
  },
  {
   "cell_type": "code",
   "execution_count": null,
   "metadata": {
    "slideshow": {
     "slide_type": "fragment"
    }
   },
   "outputs": [],
   "source": [
    "#definition of bases\n",
    "def hat_phi0(x):\n",
    "    return 1-x\n",
    "def hat_phi1(x):\n",
    "    return x"
   ]
  },
  {
   "cell_type": "markdown",
   "metadata": {
    "slideshow": {
     "slide_type": "slide"
    }
   },
   "source": [
    "We can now plot the two bases"
   ]
  },
  {
   "cell_type": "code",
   "execution_count": null,
   "metadata": {},
   "outputs": [],
   "source": [
    "x = np.linspace(0, 1)\n",
    "go.Figure(data=[\n",
    "    go.Scatter(x=x, y=hat_phi0(x), mode='lines', name=\"$\\hat\\phi_0$\"),\n",
    "    go.Scatter(x=x, y=hat_phi1(x), mode='lines', name=\"$\\hat\\phi_1$\")\n",
    "])"
   ]
  },
  {
   "cell_type": "markdown",
   "metadata": {
    "slideshow": {
     "slide_type": "slide"
    }
   },
   "source": [
    "We now need to map the reference element \\\\(\\hat s\\\\) to each individual segment \\\\(s_e\\\\)."
   ]
  },
  {
   "cell_type": "markdown",
   "metadata": {
    "slideshow": {
     "slide_type": "fragment"
    }
   },
   "source": [
    "This is called **geometric mapping** and maps the local segment \\\\(\\hat s\\\\) to each global segment \\\\(s_e\\\\):\n",
    "\n",
    "\\\\[g_e(\\hat x) = s_{e,0} + \\hat x (s_{e,1} - s_{e,0})\\\\]\n",
    "\n",
    "where \\\\(s_{e,0}\\\\) and \\\\(s_{e,1}\\\\) are the start and end points of \\\\(s_e\\\\)."
   ]
  },
  {
   "cell_type": "markdown",
   "metadata": {
    "slideshow": {
     "slide_type": "slide"
    }
   },
   "source": [
    "The integrals are over the global elements \\\\(s_e\\\\).\n",
    "\n",
    "\\\\[\n",
    "\\sum_{i=0}^n  u_i \\sum_{e=0}^{n_{el}} \\int_{s_e}\\nabla \\phi_i(x) \\cdot \\nabla \\phi_j(x)\\, \\mathrm{d} x =0\n",
    ", \\qquad \\forall j\n",
    "\\\\]"
   ]
  },
  {
   "cell_type": "markdown",
   "metadata": {
    "slideshow": {
     "slide_type": "fragment"
    }
   },
   "source": [
    "We  perform a [change of variable](https://en.wikipedia.org/wiki/Integration_by_substitution) in the integral to integrate over the reference element \\\\(\\hat s\\\\).\n",
    "\n",
    "\\\\[\n",
    "\\sum_{i=0}^n  u_i \\sum_{e=0}^{n_{el}} \\int_{\\hat s}\\nabla \\phi_i(g_e(\\hat x)) \\cdot \\nabla \\phi_j(g_e(\\hat x))\\, g_e^{\\prime}(\\hat x)\\, \\mathrm{d}\\hat x =0\n",
    ", \\qquad \\forall j\n",
    "\\\\]"
   ]
  },
  {
   "cell_type": "markdown",
   "metadata": {
    "slideshow": {
     "slide_type": "fragment"
    }
   },
   "source": [
    "Note that for 2D and 3D the **jacobian** of the geometric mapping appears, as explained [here](https://en.wikipedia.org/wiki/Integration_by_substitution#Substitution_for_multiple_variables)."
   ]
  },
  {
   "cell_type": "markdown",
   "metadata": {
    "slideshow": {
     "slide_type": "slide"
    }
   },
   "source": [
    "We can do more!\n",
    "\n",
    "We note:"
   ]
  },
  {
   "cell_type": "markdown",
   "metadata": {
    "slideshow": {
     "slide_type": "fragment"
    }
   },
   "source": [
    "\\\\[\n",
    "\\phi_i(g_e(\\hat x)) = \\hat \\phi_i(\\hat x)\n",
    "\\\\]"
   ]
  },
  {
   "cell_type": "markdown",
   "metadata": {
    "slideshow": {
     "slide_type": "fragment"
    }
   },
   "source": [
    "\\\\[\n",
    "g_e^{\\prime}(x)=s_{e, 1} - s_{e, 0}\n",
    "\\\\]"
   ]
  },
  {
   "cell_type": "markdown",
   "metadata": {
    "slideshow": {
     "slide_type": "fragment"
    }
   },
   "source": [
    "and\n",
    "\\\\[\n",
    "\\nabla_x \\phi_i(g_e(\\hat x)) = \\frac{\\nabla_{\\hat x} \\hat \\phi_i(\\hat x)}{s_{e, 1} - s_{e, 0}}\n",
    "\\\\]"
   ]
  },
  {
   "cell_type": "markdown",
   "metadata": {
    "slideshow": {
     "slide_type": "slide"
    }
   },
   "source": [
    "The weak form \n",
    "\n",
    "\\\\[\n",
    "\\sum_{i=0}^n  u_i \\sum_{e=0}^{n_{el}} \\int_{\\hat s}\\nabla \\phi_i(g_e(\\hat x)) \\cdot \\nabla \\phi_j(g_e(\\hat x))\\, g_e^{\\prime}(\\hat x)\\, \\mathrm{d}\\hat x =0\n",
    ", \\qquad \\forall j\n",
    "\\\\]"
   ]
  },
  {
   "cell_type": "markdown",
   "metadata": {
    "slideshow": {
     "slide_type": "fragment"
    }
   },
   "source": [
    "simplifies to\n",
    "\n",
    "\\\\[\n",
    "\\sum_{i=0}^n  u_i \\sum_{e=0}^{n_{el}} \\int_{\\hat s}\\frac{\\nabla \\hat\\phi_i(\\hat x)}{s_{e, 1} - s_{e, 0}} \\cdot \\frac{\\nabla \\hat\\phi_j(\\hat x)}{s_{e, 1} - s_{e, 0}}\\,(s_{e, 1} - s_{e, 0}) \\, \\mathrm{d}\\hat x = \n",
    "\\\\]"
   ]
  },
  {
   "cell_type": "markdown",
   "metadata": {
    "slideshow": {
     "slide_type": "fragment"
    }
   },
   "source": [
    "\\\\[\n",
    "\\sum_{i=0}^n  u_i \\sum_{e=0}^{n_{el}} \\int_{\\hat s}\\frac{\\nabla \\hat\\phi_i(\\hat x) \\cdot \\nabla \\hat\\phi_j(\\hat x)}{s_{e, 1} - s_{e, 0}} \\, \\mathrm{d}\\hat x = 0\n",
    ", \\qquad \\forall j\n",
    "\\\\]"
   ]
  },
  {
   "cell_type": "markdown",
   "metadata": {
    "slideshow": {
     "slide_type": "slide"
    }
   },
   "source": [
    "This localization forces us to keep track of the mapping between the 2 local nodes and their respective global indices.\n",
    "\n",
    "This mapping is called **local to global**."
   ]
  },
  {
   "cell_type": "markdown",
   "metadata": {
    "slideshow": {
     "slide_type": "fragment"
    }
   },
   "source": [
    "In other words, the local to global mapping \\\\(g_e^i\\\\) maps the local indices \\\\(i=0,1\\\\) of element \\\\(e\\\\) to its corresponding global indices."
   ]
  },
  {
   "cell_type": "markdown",
   "metadata": {
    "slideshow": {
     "slide_type": "fragment"
    }
   },
   "source": [
    "Note that most of the terms are zero since only 2 bases are not zero."
   ]
  },
  {
   "cell_type": "markdown",
   "metadata": {
    "slideshow": {
     "slide_type": "fragment"
    }
   },
   "source": [
    "Using this note and the local to global mapping we can further simplify\n",
    "\n",
    "\\\\[\n",
    "\\sum_{i=0}^n  u_i \\sum_{e=0}^{n_{el} } \\int_{\\hat s} \\frac{\\nabla \\hat\\phi_i \\cdot \\nabla \\hat\\phi_j}{s_{e, 1} - s_{e, 0} } =\n",
    "\\sum_{e=0}^{n_{el} }\\sum_{i=0}^1 u_{g_e^i} \\int_{\\hat s} \\frac{\\nabla \\hat\\phi_i \\cdot \\nabla \\hat\\phi_j}{s_{e, 1} - s_{e, 0}}\n",
    ", \\qquad \\forall j=0,1\n",
    "\\\\]"
   ]
  },
  {
   "cell_type": "markdown",
   "metadata": {
    "slideshow": {
     "slide_type": "slide"
    }
   },
   "source": [
    "We need the gradients of the local bases\n",
    "\n",
    "\\\\[\n",
    "\\hat \\phi_0 = 1-x\n",
    "\\\\]\n",
    "\n",
    "and\n",
    "\n",
    "\\\\[\n",
    "\\hat \\phi_1 = x\n",
    "\\\\]"
   ]
  },
  {
   "cell_type": "code",
   "execution_count": null,
   "metadata": {
    "slideshow": {
     "slide_type": "fragment"
    }
   },
   "outputs": [],
   "source": [
    "def grad_hat_phi0(x):\n",
    "    return -np.ones(x.shape)\n",
    "def grad_hat_phi1(x):\n",
    "    return np.ones(x.shape)"
   ]
  },
  {
   "cell_type": "markdown",
   "metadata": {
    "slideshow": {
     "slide_type": "slide"
    }
   },
   "source": [
    "# Basis construction"
   ]
  },
  {
   "cell_type": "markdown",
   "metadata": {},
   "source": [
    "We now construct an array of elements, one for each $s_e$.\n",
    "\n",
    "Each element $e$ contains:\n",
    " - the number of non-zero bases (always 2),\n",
    " - the 2 functions and their 2 gradients,\n",
    " - the local to global mapping $g_e^i$, \n",
    " - the geometric mapping and its gradient.\n",
    "\n",
    "Note that in this case the local to global mapping is trivial:\n",
    "\n",
    "\\\\[g_e^i = e+i.\\\\]"
   ]
  },
  {
   "cell_type": "code",
   "execution_count": null,
   "metadata": {
    "slideshow": {
     "slide_type": "slide"
    }
   },
   "outputs": [],
   "source": [
    "elements = []\n",
    "for e in range(n_el):\n",
    "    el = {}\n",
    "    \n",
    "    el[\"n_bases\"] = 2\n",
    "    \n",
    "    #2 bases\n",
    "    el[\"phi\"] = [hat_phi0, hat_phi1]\n",
    "    el[\"grad_phi\"] = [grad_hat_phi0, grad_hat_phi1]\n",
    "    \n",
    "    #local to global mapping\n",
    "    el[\"loc_2_glob\"] = [e, e+1]\n",
    "    \n",
    "    #geometric mapping\n",
    "    el[\"gmapping\"] = lambda x, e=e : s[e] + x*(s[e+1]-s[e])\n",
    "    el[\"grad_gmapping\"] = lambda x : (s[e+1]-s[e])\n",
    "    \n",
    "    elements.append(el)"
   ]
  },
  {
   "cell_type": "markdown",
   "metadata": {
    "slideshow": {
     "slide_type": "slide"
    }
   },
   "source": [
    "We define a function to interpolate the vector \\\\(\\vec{u}\\\\) using the local to global, geometric mapping, and local bases to interpolate the data."
   ]
  },
  {
   "cell_type": "markdown",
   "metadata": {
    "slideshow": {
     "slide_type": "fragment"
    }
   },
   "source": [
    "We first define a vector of \\\\(\\hat x\\\\) values (`xhat = np.linspace(0, 1)`) where we want to evaluate the local bases,"
   ]
  },
  {
   "cell_type": "markdown",
   "metadata": {
    "slideshow": {
     "slide_type": "fragment"
    }
   },
   "source": [
    "then we iterate over all elements and compute\n",
    "\n",
    "\\\\[\n",
    "\\sum_{i=0}^1 u_{g_e^i} \\hat \\phi_i(\\hat x).\n",
    "\\\\]"
   ]
  },
  {
   "cell_type": "markdown",
   "metadata": {
    "slideshow": {
     "slide_type": "fragment"
    }
   },
   "source": [
    "We also map \\\\(\\hat x\\\\) to its global position with\n",
    "\n",
    "\\\\[\n",
    "x = g_e(\\hat x).\n",
    "\\\\]"
   ]
  },
  {
   "cell_type": "code",
   "execution_count": null,
   "metadata": {
    "slideshow": {
     "slide_type": "slide"
    }
   },
   "outputs": [],
   "source": [
    "def interpolate(u):\n",
    "    uinterp = np.array([])\n",
    "    x = np.array([])\n",
    "\n",
    "    #create the reference evaluation points\n",
    "    xhat = np.linspace(0, 1)\n",
    "\n",
    "    #loop over bases\n",
    "    for e in range(n_el):\n",
    "        # pick an element\n",
    "        el = elements[e]\n",
    "    \n",
    "        # we want to sum, we initialize to zero\n",
    "        uloc = np.zeros(xhat.shape)\n",
    "\n",
    "        # sum over the local non-zero bases (2)\n",
    "        for i in range(el[\"n_bases\"]):\n",
    "            # g_e^i\n",
    "            glob_node = el[\"loc_2_glob\"][i]\n",
    "            # \\phi_{g_e^i}\n",
    "            loc_base = el[\"phi\"][i]\n",
    "        \n",
    "            uloc += u[glob_node] * loc_base(xhat)\n",
    "    \n",
    "        uinterp = np.append(uinterp, uloc)\n",
    "        # g_e(\\hat x)\n",
    "        x = np.append(x, el[\"gmapping\"](xhat))\n",
    "    \n",
    "    return x, uinterp"
   ]
  },
  {
   "cell_type": "markdown",
   "metadata": {
    "slideshow": {
     "slide_type": "slide"
    }
   },
   "source": [
    "We can generate a random vector \\\\(\\vec{u}\\\\) and use the previous function."
   ]
  },
  {
   "cell_type": "code",
   "execution_count": null,
   "metadata": {},
   "outputs": [],
   "source": [
    "u = np.random.rand(n_bases)\n",
    "\n",
    "x, uinterp = interpolate(u)\n",
    "\n",
    "go.Figure(data=[\n",
    "    go.Scatter(x=x, y=uinterp, mode='lines'),\n",
    "    go.Scatter(x=s, y=u, mode='markers'),\n",
    "])"
   ]
  },
  {
   "cell_type": "markdown",
   "metadata": {
    "slideshow": {
     "slide_type": "slide"
    }
   },
   "source": [
    "# Assembly"
   ]
  },
  {
   "cell_type": "markdown",
   "metadata": {},
   "source": [
    "We are now ready the assemble the global stiffness matrix."
   ]
  },
  {
   "cell_type": "markdown",
   "metadata": {
    "slideshow": {
     "slide_type": "fragment"
    }
   },
   "source": [
    "The local entries are\n",
    "\\\\[\n",
    "L^e_{i,j} = \n",
    "%\\int_\\Omega\\nabla \\phi_i \\cdot \\nabla \\phi_j =\n",
    "\\int_{\\hat s} \\frac{\\nabla \\hat\\phi_{i} \\cdot \\nabla \\hat\\phi_{j}}{s_{e, 1} - s_{e, 0}}\n",
    "\\\\]\n",
    "\n",
    "which are then mapped to the global entries \\\\(g_e^i, g_e^j\\\\)."
   ]
  },
  {
   "cell_type": "markdown",
   "metadata": {
    "slideshow": {
     "slide_type": "fragment"
    }
   },
   "source": [
    "Note that the integrals are performed with `quadpy`."
   ]
  },
  {
   "cell_type": "code",
   "execution_count": null,
   "metadata": {
    "slideshow": {
     "slide_type": "-"
    }
   },
   "outputs": [],
   "source": [
    "import quadpy\n",
    "# some quadrature rule\n",
    "scheme = quadpy.line_segment.gauss_patterson(5)"
   ]
  },
  {
   "cell_type": "code",
   "execution_count": null,
   "metadata": {
    "slideshow": {
     "slide_type": "slide"
    }
   },
   "outputs": [],
   "source": [
    "#triplets for the matrix\n",
    "rows = []\n",
    "cols = []\n",
    "vals = []\n",
    "\n",
    "for e in range(n_el):\n",
    "    el = elements[e]\n",
    "\n",
    "    for i in range(el[\"n_bases\"]):\n",
    "        for j in range(el[\"n_bases\"]):\n",
    "            # evaluation of the integral:\n",
    "            # \\int_{\\hat s} \\frac{\\nabla \\hat\\phi_{i} \\cdot \\nabla \\hat\\phi_{j}}{s_{e, 1} - s_{e, 0}}\n",
    "            val = scheme.integrate(\n",
    "                lambda x:\n",
    "                el[\"grad_phi\"][i](x) * el[\"grad_phi\"][j](x) / el[\"grad_gmapping\"](x),\n",
    "                [0.0, 1.0])\n",
    "            \n",
    "            # the local entry val at i, j goes to g_e^i, g_e^j\n",
    "            rows.append(el[\"loc_2_glob\"][i])\n",
    "            cols.append(el[\"loc_2_glob\"][j])\n",
    "            vals.append(val)\n",
    "\n",
    "            \n",
    "rows = np.array(rows)\n",
    "cols = np.array(cols)\n",
    "vals = np.array(vals)\n",
    "\n",
    "L = spr.coo_matrix((vals, (rows, cols)))\n",
    "L = spr.csr_matrix(L)"
   ]
  },
  {
   "cell_type": "code",
   "execution_count": null,
   "metadata": {
    "slideshow": {
     "slide_type": "slide"
    }
   },
   "outputs": [],
   "source": [
    "L.toarray()\n",
    "#this looks exacly like FD!"
   ]
  },
  {
   "cell_type": "markdown",
   "metadata": {
    "slideshow": {
     "slide_type": "slide"
    }
   },
   "source": [
    "We set the row `0` and `n_el` to identity for the boundary conditions"
   ]
  },
  {
   "cell_type": "code",
   "execution_count": null,
   "metadata": {
    "slideshow": {
     "slide_type": "fragment"
    }
   },
   "outputs": [],
   "source": [
    "for bc in [0, n_el]:\n",
    "    _, nnz = L[bc,:].nonzero()\n",
    "    for j in nnz:\n",
    "        if j != bc:\n",
    "            L[bc, j] = 0.0\n",
    "    L[bc, bc] = 1.0"
   ]
  },
  {
   "cell_type": "code",
   "execution_count": null,
   "metadata": {
    "slideshow": {
     "slide_type": "slide"
    }
   },
   "outputs": [],
   "source": [
    "L.A"
   ]
  },
  {
   "cell_type": "markdown",
   "metadata": {
    "slideshow": {
     "slide_type": "slide"
    }
   },
   "source": [
    "We set the right-hand side to zero, and set the two boundary conditions to 1 and 4."
   ]
  },
  {
   "cell_type": "code",
   "execution_count": null,
   "metadata": {
    "slideshow": {
     "slide_type": "fragment"
    }
   },
   "outputs": [],
   "source": [
    "f = np.zeros((n_bases, 1))\n",
    "f[0] = 1\n",
    "f[-1] = 4"
   ]
  },
  {
   "cell_type": "markdown",
   "metadata": {
    "slideshow": {
     "slide_type": "slide"
    }
   },
   "source": [
    "We now solve \\\\(L\\vec{u}=f\\\\) for \\\\(\\vec{u}\\\\)."
   ]
  },
  {
   "cell_type": "code",
   "execution_count": null,
   "metadata": {
    "slideshow": {
     "slide_type": "fragment"
    }
   },
   "outputs": [],
   "source": [
    "u = spsolve(L, f)"
   ]
  },
  {
   "cell_type": "markdown",
   "metadata": {
    "slideshow": {
     "slide_type": "slide"
    }
   },
   "source": [
    "We now plot the solution \\\\(\\vec{u}\\\\).\n",
    "Will we get a line?"
   ]
  },
  {
   "cell_type": "code",
   "execution_count": null,
   "metadata": {},
   "outputs": [],
   "source": [
    "x, uinterp = interpolate(u)\n",
    "\n",
    "\n",
    "go.Figure(data=[\n",
    "    go.Scatter(x=x, y=uinterp, mode='lines', name=\"solution\"),\n",
    "    go.Scatter(x=s, y=u, mode='markers', name=\"$u$\"),\n",
    "])"
   ]
  },
  {
   "cell_type": "markdown",
   "metadata": {
    "slideshow": {
     "slide_type": "slide"
    }
   },
   "source": [
    "# Mass Matrix"
   ]
  },
  {
   "cell_type": "markdown",
   "metadata": {},
   "source": [
    "We change the pde from Laplace to Poisson\n",
    "\n",
    "\\\\[\n",
    "-\\Delta u = f\n",
    "\\\\]"
   ]
  },
  {
   "cell_type": "markdown",
   "metadata": {
    "slideshow": {
     "slide_type": "fragment"
    }
   },
   "source": [
    "If we assume that \\\\(f\\\\) is also expressed in terms of \\\\(\\phi_i\\\\) we can rewrite the weak form as\n",
    "\n",
    "\\\\[\\sum_{i=0}^n u_i \\int_\\Omega\\nabla \\phi_i \\cdot \\nabla \\phi_j = \\sum_{i=0}^n f_i \\int_\\Omega\\phi_i \\phi_j, \\qquad \\forall j=0,\\dots,n\\\\]"
   ]
  },
  {
   "cell_type": "markdown",
   "metadata": {
    "slideshow": {
     "slide_type": "slide"
    }
   },
   "source": [
    "Which can be represented in matrix form\n",
    "\n",
    "\\\\[\n",
    "L \\vec{u} = M \\vec{f},\n",
    "\\\\]\n",
    "\n",
    "where \\\\(\\vec{f}\\\\) is the vector of \\\\(f_i\\\\) and\n",
    "\n",
    "\\\\[\n",
    "M_{i,j} = \\int_\\Omega\\phi_i \\phi_j\n",
    "\\\\]\n",
    "\n",
    "is the **mass matrix**."
   ]
  },
  {
   "cell_type": "markdown",
   "metadata": {
    "slideshow": {
     "slide_type": "slide"
    }
   },
   "source": [
    "As for the stiffness matrix, the mass matrix can be localized\n",
    "\n",
    "\\\\[\n",
    "M^e_{i,j} = \\int_{\\hat s_j} \\hat\\phi_i \\cdot \\hat\\phi_j\\,(s_{j, 1} - s_{j, 0}).\n",
    "\\\\]"
   ]
  },
  {
   "cell_type": "markdown",
   "metadata": {
    "slideshow": {
     "slide_type": "fragment"
    }
   },
   "source": [
    "Note that there is no division since there are no gradients!"
   ]
  },
  {
   "cell_type": "code",
   "execution_count": null,
   "metadata": {
    "slideshow": {
     "slide_type": "slide"
    }
   },
   "outputs": [],
   "source": [
    "rows = []\n",
    "cols = []\n",
    "vals = []\n",
    "\n",
    "\n",
    "#same as above but now we use phi instead of grad_phi and no division\n",
    "for e in range(n_el):\n",
    "    el = elements[e]\n",
    "\n",
    "    for i in range(el[\"n_bases\"]):\n",
    "        for j in range(el[\"n_bases\"]):\n",
    "            # \\int_{\\hat s_j} \\hat\\phi_i \\cdot \\hat\\phi_j\\,(s_{j, 1} - s_{j, 0})\n",
    "            val = scheme.integrate(\n",
    "                lambda x:\n",
    "                el[\"phi\"][i](x) * el[\"phi\"][j](x) * el[\"grad_gmapping\"](x),\n",
    "                [0.0, 1.0])\n",
    "            \n",
    "            rows.append(el[\"loc_2_glob\"][i])\n",
    "            cols.append(el[\"loc_2_glob\"][j])\n",
    "            vals.append(val)\n",
    "\n",
    "            \n",
    "rows = np.array(rows)\n",
    "cols = np.array(cols)\n",
    "vals = np.array(vals)\n",
    "\n",
    "M = spr.coo_matrix((vals, (rows, cols)))\n",
    "M = spr.csr_matrix(M)"
   ]
  },
  {
   "cell_type": "markdown",
   "metadata": {
    "slideshow": {
     "slide_type": "slide"
    }
   },
   "source": [
    "Now we set \\\\(\\vec{f}=4\\\\) and zero boundary conditions."
   ]
  },
  {
   "cell_type": "code",
   "execution_count": null,
   "metadata": {
    "slideshow": {
     "slide_type": "fragment"
    }
   },
   "outputs": [],
   "source": [
    "f = 4*np.ones((n_bases, 1))\n",
    "f = M*f\n",
    "\n",
    "f[0] = 0\n",
    "f[-1] = 0"
   ]
  },
  {
   "cell_type": "markdown",
   "metadata": {
    "slideshow": {
     "slide_type": "slide"
    }
   },
   "source": [
    "We now solve \\\\(L\\vec{u}=M\\vec{f}\\\\) for \\\\(\\vec{u}\\\\)."
   ]
  },
  {
   "cell_type": "code",
   "execution_count": null,
   "metadata": {
    "slideshow": {
     "slide_type": "fragment"
    }
   },
   "outputs": [],
   "source": [
    "u = spsolve(L, f)"
   ]
  },
  {
   "cell_type": "code",
   "execution_count": null,
   "metadata": {
    "slideshow": {
     "slide_type": "slide"
    }
   },
   "outputs": [],
   "source": [
    "x, uinterp = interpolate(u)\n",
    "\n",
    "go.Figure(data=[\n",
    "    go.Scatter(x=x, y=uinterp, mode='lines', name=\"solution\"),\n",
    "    go.Scatter(x=s, y=u, mode='markers', name=\"$u$\"),\n",
    "])"
   ]
  }
 ],
 "metadata": {
  "kernelspec": {
   "display_name": "Python 3",
   "language": "python",
   "name": "python3"
  },
  "language_info": {
   "codemirror_mode": {
    "name": "ipython",
    "version": 3
   },
   "file_extension": ".py",
   "mimetype": "text/x-python",
   "name": "python",
   "nbconvert_exporter": "python",
   "pygments_lexer": "ipython3",
   "version": "3.8.2"
  }
 },
 "nbformat": 4,
 "nbformat_minor": 2
}
