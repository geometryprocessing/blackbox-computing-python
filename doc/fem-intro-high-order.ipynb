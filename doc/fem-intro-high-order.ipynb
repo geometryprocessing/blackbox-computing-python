{
 "cells": [
  {
   "cell_type": "markdown",
   "metadata": {
    "slideshow": {
     "slide_type": "slide"
    }
   },
   "source": [
    "# High-Order Example"
   ]
  },
  {
   "cell_type": "markdown",
   "metadata": {},
   "source": [
    "[![Binder](https://mybinder.org/badge_logo.svg)](https://mybinder.org/v2/gh/teseoch/fem-intro/master?filepath=fem-intro-high-order.ipynb)\n",
    "![](QR-ho.png)\n",
    "Run it with binder!"
   ]
  },
  {
   "cell_type": "code",
   "execution_count": null,
   "metadata": {
    "slideshow": {
     "slide_type": "slide"
    }
   },
   "outputs": [],
   "source": [
    "import numpy as np\n",
    "import scipy.sparse as spr\n",
    "from scipy.sparse.linalg import spsolve\n",
    "\n",
    "import plotly.graph_objects as go"
   ]
  },
  {
   "cell_type": "markdown",
   "metadata": {
    "slideshow": {
     "slide_type": "slide"
    }
   },
   "source": [
    "As in the linear case, the domain is $\\Omega = [0, 1]$, which we discretize with $n_{el}$ segments (or elements) $s_i$."
   ]
  },
  {
   "cell_type": "markdown",
   "metadata": {
    "slideshow": {
     "slide_type": "fragment"
    }
   },
   "source": [
    "Now we also create the high-order nodes.\n",
    "\n",
    "Note that we append them at the end."
   ]
  },
  {
   "cell_type": "code",
   "execution_count": null,
   "metadata": {
    "slideshow": {
     "slide_type": "slide"
    }
   },
   "outputs": [],
   "source": [
    "#domain\n",
    "omega = np.array([0, 1])\n",
    "\n",
    "#number of bases and elements\n",
    "n_el = 10\n",
    "\n",
    "\n",
    "#Regular nodes, as before\n",
    "s = np.linspace(omega[0], omega[1], num=n_el+1)\n",
    "# s = np.cumsum(np.random.rand(n_elements+1))\n",
    "s = (s-s[0])/(s[-1]-s[0])"
   ]
  },
  {
   "cell_type": "code",
   "execution_count": null,
   "metadata": {
    "slideshow": {
     "slide_type": "fragment"
    }
   },
   "outputs": [],
   "source": [
    "# we now pick the order\n",
    "order = 3\n",
    "\n",
    "nodes = s\n",
    "\n",
    "#more bases\n",
    "n_bases = n_el + 1 + n_el*(order-1)\n",
    "\n",
    "#create the nodes for the plots\n",
    "for e in range(n_el):\n",
    "    #For every segment, we create order + 1 new high-order nodes\n",
    "    tmp = np.linspace(s[e], s[e+1], num=order+1)\n",
    "    #exclude the first and last since they already exists\n",
    "    tmp = tmp[1:-1]\n",
    "    \n",
    "    #and append at the end of nodes\n",
    "    nodes = np.append(nodes, tmp)"
   ]
  },
  {
   "cell_type": "markdown",
   "metadata": {
    "slideshow": {
     "slide_type": "slide"
    }
   },
   "source": [
    "Plot, in orange the high-order nodes, in blue the linear nodes."
   ]
  },
  {
   "cell_type": "code",
   "execution_count": null,
   "metadata": {
    "slideshow": {
     "slide_type": "-"
    }
   },
   "outputs": [],
   "source": [
    "go.Figure(data=[\n",
    "    go.Scatter(x=s, y=np.zeros(s.shape), mode='lines+markers'),\n",
    "    go.Scatter(x=nodes[n_el+1:], y=np.zeros(nodes.shape), mode='markers')\n",
    "])"
   ]
  },
  {
   "cell_type": "markdown",
   "metadata": {
    "slideshow": {
     "slide_type": "slide"
    }
   },
   "source": [
    "# Local bases"
   ]
  },
  {
   "cell_type": "markdown",
   "metadata": {},
   "source": [
    "As in the linear case, we define the **reference element** $\\hat s= [0, 1]$, a segment of unit length."
   ]
  },
  {
   "cell_type": "markdown",
   "metadata": {
    "slideshow": {
     "slide_type": "fragment"
    }
   },
   "source": [
    "On each element we now have `order+1` (e.g., 2 for linear, 3 for quadratic) **non-zero** local bases.\n",
    "\n",
    "We define their \"piece\" on $\\hat s$."
   ]
  },
  {
   "cell_type": "markdown",
   "metadata": {
    "slideshow": {
     "slide_type": "fragment"
    }
   },
   "source": [
    "It is important to respect the order of the nodes: the first 2 bases are always for the endpoints, and the others are ordered left to right."
   ]
  },
  {
   "cell_type": "markdown",
   "metadata": {
    "slideshow": {
     "slide_type": "slide"
    }
   },
   "source": [
    "Definition of linear bases, same as before"
   ]
  },
  {
   "cell_type": "code",
   "execution_count": null,
   "metadata": {
    "slideshow": {
     "slide_type": "-"
    }
   },
   "outputs": [],
   "source": [
    "def hat_phi_1_0(x):\n",
    "    return 1-x\n",
    "def hat_phi_1_1(x):\n",
    "    return x"
   ]
  },
  {
   "cell_type": "markdown",
   "metadata": {
    "slideshow": {
     "slide_type": "fragment"
    }
   },
   "source": [
    "Definition of quadratic bases"
   ]
  },
  {
   "cell_type": "code",
   "execution_count": null,
   "metadata": {
    "slideshow": {
     "slide_type": "-"
    }
   },
   "outputs": [],
   "source": [
    "\n",
    "def hat_phi_2_0(x):\n",
    "    return 2*(x-0.5)*(x-1)\n",
    "def hat_phi_2_1(x):\n",
    "    return 2*(x-0)*(x-0.5)\n",
    "def hat_phi_2_2(x):\n",
    "    return -4*(x-0.5)**2+1"
   ]
  },
  {
   "cell_type": "markdown",
   "metadata": {
    "slideshow": {
     "slide_type": "fragment"
    }
   },
   "source": [
    "Definition of cubic bases"
   ]
  },
  {
   "cell_type": "code",
   "execution_count": null,
   "metadata": {
    "slideshow": {
     "slide_type": "-"
    }
   },
   "outputs": [],
   "source": [
    "def hat_phi_3_0(x):\n",
    "    return -9/2*(x-1/3)*(x-2/3)*(x-1)\n",
    "def hat_phi_3_1(x):\n",
    "    return 9/2*(x-0)*(x-1/3)*(x-2/3)\n",
    "def hat_phi_3_2(x):\n",
    "    return 27/2*(x-0)*(x-2/3)*(x-1)\n",
    "def hat_phi_3_3(x):\n",
    "    return -27/2*(x-0)*(x-1/3)*(x-1)"
   ]
  },
  {
   "cell_type": "markdown",
   "metadata": {
    "slideshow": {
     "slide_type": "fragment"
    }
   },
   "source": [
    "Utility function to return the list of functions"
   ]
  },
  {
   "cell_type": "code",
   "execution_count": null,
   "metadata": {
    "slideshow": {
     "slide_type": "-"
    }
   },
   "outputs": [],
   "source": [
    "def hat_phis(order):\n",
    "    if order == 1:\n",
    "        return [hat_phi_1_0, hat_phi_1_1]\n",
    "    elif order == 2:\n",
    "        return [hat_phi_2_0, hat_phi_2_1, hat_phi_2_2]\n",
    "    elif order == 3:\n",
    "        return [hat_phi_3_0, hat_phi_3_1, hat_phi_3_2, hat_phi_3_3]"
   ]
  },
  {
   "cell_type": "markdown",
   "metadata": {
    "slideshow": {
     "slide_type": "slide"
    }
   },
   "source": [
    "We can now plot the `order+1` local bases, same code as before.\n",
    "\n",
    "Note that the first two bases correspond to the end-points, and the others are ordered."
   ]
  },
  {
   "cell_type": "code",
   "execution_count": null,
   "metadata": {},
   "outputs": [],
   "source": [
    "x = np.linspace(0, 1)\n",
    "\n",
    "data = []\n",
    "\n",
    "tmp = hat_phis(order)\n",
    "\n",
    "for o in range(order+1):\n",
    "    data.append(go.Scatter(x=x, y=tmp[o](x), mode='lines', name=\"$\\hat\\phi_{}$\".format(o)))\n",
    "\n",
    "go.Figure(data=data)"
   ]
  },
  {
   "cell_type": "markdown",
   "metadata": {
    "slideshow": {
     "slide_type": "slide"
    }
   },
   "source": [
    "We use `sympy` to compute the gradients of the local bases."
   ]
  },
  {
   "cell_type": "code",
   "execution_count": null,
   "metadata": {
    "slideshow": {
     "slide_type": "fragment"
    }
   },
   "outputs": [],
   "source": [
    "import sympy as sp\n",
    "\n",
    "xsym = sp.Symbol('x')\n",
    "\n",
    "def grad_hat_phis(order):\n",
    "    #For linear we need to get the correct size\n",
    "    if order == 1:\n",
    "        return [lambda x : -np.ones(x.shape), lambda x : np.ones(x.shape)]\n",
    "    \n",
    "    res = []\n",
    "    tmp = hat_phis(order)\n",
    "    \n",
    "    for fun in tmp:\n",
    "        res.append(sp.lambdify(xsym, fun(xsym).diff(xsym)))\n",
    "    return res"
   ]
  },
  {
   "cell_type": "markdown",
   "metadata": {
    "slideshow": {
     "slide_type": "slide"
    }
   },
   "source": [
    "Plotting gradients"
   ]
  },
  {
   "cell_type": "code",
   "execution_count": null,
   "metadata": {},
   "outputs": [],
   "source": [
    "x = np.linspace(0, 1)\n",
    "\n",
    "data = []\n",
    "\n",
    "tmp = grad_hat_phis(order)\n",
    "\n",
    "for o in range(order+1):\n",
    "    data.append(go.Scatter(x=x, y=tmp[o](x), mode='lines', name=\"$\\hat\\phi_{}$\".format(o)))\n",
    "\n",
    "go.Figure(data=data)"
   ]
  },
  {
   "cell_type": "markdown",
   "metadata": {
    "slideshow": {
     "slide_type": "slide"
    }
   },
   "source": [
    "# Basis construction"
   ]
  },
  {
   "cell_type": "markdown",
   "metadata": {},
   "source": [
    "This code is exacly as before."
   ]
  },
  {
   "cell_type": "markdown",
   "metadata": {
    "slideshow": {
     "slide_type": "fragment"
    }
   },
   "source": [
    "The only difficulty is the local to global mapping: \n",
    "- the first 2 nodes are always the same\n",
    "\n",
    "$$g_e^0 = e \\qquad\\mathrm{and}\\qquad g_e^1=g+1$$ \n",
    "- the others are \n",
    "\n",
    "$$g_e^i = n_{el} + e (\\mathrm{order}-1) + i.$$"
   ]
  },
  {
   "cell_type": "code",
   "execution_count": null,
   "metadata": {
    "slideshow": {
     "slide_type": "slide"
    }
   },
   "outputs": [],
   "source": [
    "elements = []\n",
    "for e in range(n_el):\n",
    "    el = {}\n",
    "    \n",
    "    el[\"n_bases\"] = order+1\n",
    "    \n",
    "    #2 bases\n",
    "    el[\"phi\"] = hat_phis(order)\n",
    "    el[\"grad_phi\"] = grad_hat_phis(order)\n",
    "    \n",
    "    #local to global mapping\n",
    "    high_order_nodes = list(range(n_el + 1 + e*(order-1), n_el + e*(order-1) + order))\n",
    "    el[\"loc_2_glob\"] = [e, e+1] + high_order_nodes\n",
    "    \n",
    "    #geometric mapping\n",
    "    el[\"gmapping\"] = lambda x, e=e : s[e] + x*(s[e+1]-s[e])\n",
    "    el[\"grad_gmapping\"] = lambda x : (s[e+1]-s[e])\n",
    "    \n",
    "    elements.append(el)"
   ]
  },
  {
   "cell_type": "markdown",
   "metadata": {
    "slideshow": {
     "slide_type": "slide"
    }
   },
   "source": [
    "We define a function to interpolate the vector $\\vec{u}$ using the local to global, geometric mapping, and local bases to interpolate the data, as before."
   ]
  },
  {
   "cell_type": "code",
   "execution_count": null,
   "metadata": {
    "slideshow": {
     "slide_type": "fragment"
    }
   },
   "outputs": [],
   "source": [
    "def interpolate(u):\n",
    "    uinterp = np.array([])\n",
    "    x = np.array([])\n",
    "\n",
    "    xhat = np.linspace(0, 1)\n",
    "\n",
    "\n",
    "    for e in range(n_el):\n",
    "        el = elements[e]\n",
    "    \n",
    "        uloc = np.zeros(xhat.shape)\n",
    "\n",
    "        for i in range(el[\"n_bases\"]):\n",
    "            glob_node = el[\"loc_2_glob\"][i]\n",
    "            loc_base = el[\"phi\"][i]\n",
    "        \n",
    "            uloc += u[glob_node] * loc_base(xhat)\n",
    "    \n",
    "        uinterp = np.append(uinterp, uloc)\n",
    "        x = np.append(x, el[\"gmapping\"](xhat))\n",
    "    \n",
    "    return x, uinterp"
   ]
  },
  {
   "cell_type": "markdown",
   "metadata": {
    "slideshow": {
     "slide_type": "slide"
    }
   },
   "source": [
    "We can generate a random vector $\\vec{u}$ and use the previous function. This will interpolate all nodes."
   ]
  },
  {
   "cell_type": "code",
   "execution_count": null,
   "metadata": {},
   "outputs": [],
   "source": [
    "u = np.random.rand(n_bases)\n",
    "\n",
    "x, uinterp = interpolate(u)\n",
    "\n",
    "\n",
    "go.Figure(data=[\n",
    "    go.Scatter(x=x, y=uinterp, mode='lines'),\n",
    "    go.Scatter(x=nodes, y=u, mode='markers'),\n",
    "])"
   ]
  },
  {
   "cell_type": "markdown",
   "metadata": {
    "slideshow": {
     "slide_type": "slide"
    }
   },
   "source": [
    "# Assembly"
   ]
  },
  {
   "cell_type": "markdown",
   "metadata": {},
   "source": [
    "We are now ready the assemble the global stiffness matrix, which is exacly as before."
   ]
  },
  {
   "cell_type": "code",
   "execution_count": null,
   "metadata": {
    "slideshow": {
     "slide_type": "fragment"
    }
   },
   "outputs": [],
   "source": [
    "import quadpy\n",
    "scheme = quadpy.line_segment.gauss_patterson(5)\n",
    "\n",
    "rows = []\n",
    "cols = []\n",
    "vals = []\n",
    "\n",
    "for e in range(n_el):\n",
    "    el = elements[e]\n",
    "\n",
    "    for i in range(el[\"n_bases\"]):\n",
    "        for j in range(el[\"n_bases\"]):\n",
    "            val = scheme.integrate(\n",
    "                lambda x:\n",
    "                el[\"grad_phi\"][i](x) * el[\"grad_phi\"][j](x) / el[\"grad_gmapping\"](x),\n",
    "                [0.0, 1.0])\n",
    "            \n",
    "            rows.append(el[\"loc_2_glob\"][i])\n",
    "            cols.append(el[\"loc_2_glob\"][j])\n",
    "            vals.append(val)\n",
    "\n",
    "            \n",
    "rows = np.array(rows)\n",
    "cols = np.array(cols)\n",
    "vals = np.array(vals)\n",
    "\n",
    "L = spr.coo_matrix((vals, (rows, cols)))\n",
    "L = spr.csr_matrix(L)"
   ]
  },
  {
   "cell_type": "markdown",
   "metadata": {
    "slideshow": {
     "slide_type": "slide"
    }
   },
   "source": [
    "We set the rows `0` and `n_el` to identity for the boundary conditions."
   ]
  },
  {
   "cell_type": "code",
   "execution_count": null,
   "metadata": {
    "slideshow": {
     "slide_type": "fragment"
    }
   },
   "outputs": [],
   "source": [
    "for bc in [0, n_el]:\n",
    "    _, nnz = L[bc,:].nonzero()\n",
    "    for j in nnz:\n",
    "        if j != bc:\n",
    "            L[bc, j] = 0.0\n",
    "    L[bc, bc] = 1.0"
   ]
  },
  {
   "cell_type": "markdown",
   "metadata": {
    "slideshow": {
     "slide_type": "fragment"
    }
   },
   "source": [
    "We set the right-hand side to zero, and set the two boundary conditions to 1 and 4."
   ]
  },
  {
   "cell_type": "code",
   "execution_count": null,
   "metadata": {
    "slideshow": {
     "slide_type": "fragment"
    }
   },
   "outputs": [],
   "source": [
    "f = np.zeros((n_bases, 1))\n",
    "f[0] = 1\n",
    "f[n_el] = 4"
   ]
  },
  {
   "cell_type": "markdown",
   "metadata": {
    "slideshow": {
     "slide_type": "fragment"
    }
   },
   "source": [
    "We now solve $L\\vec{u}=f$ for $\\vec{u}$."
   ]
  },
  {
   "cell_type": "code",
   "execution_count": null,
   "metadata": {
    "slideshow": {
     "slide_type": "fragment"
    }
   },
   "outputs": [],
   "source": [
    "u = spsolve(L, f)"
   ]
  },
  {
   "cell_type": "markdown",
   "metadata": {
    "slideshow": {
     "slide_type": "slide"
    }
   },
   "source": [
    "We now plot the solution. We expect a line, independently of `order`!"
   ]
  },
  {
   "cell_type": "code",
   "execution_count": null,
   "metadata": {},
   "outputs": [],
   "source": [
    "x, uinterp = interpolate(u)\n",
    "\n",
    "go.Figure(data=[\n",
    "    go.Scatter(x=x, y=uinterp, mode='lines', name=\"solution\"),\n",
    "    go.Scatter(x=nodes, y=u, mode='markers', name=\"$u$\"),\n",
    "])"
   ]
  },
  {
   "cell_type": "markdown",
   "metadata": {
    "slideshow": {
     "slide_type": "slide"
    }
   },
   "source": [
    "# Mass Matrix"
   ]
  },
  {
   "cell_type": "markdown",
   "metadata": {
    "slideshow": {
     "slide_type": "-"
    }
   },
   "source": [
    "This is exactly as before!"
   ]
  },
  {
   "cell_type": "code",
   "execution_count": null,
   "metadata": {
    "slideshow": {
     "slide_type": "fragment"
    }
   },
   "outputs": [],
   "source": [
    "rows = []\n",
    "cols = []\n",
    "vals = []\n",
    "\n",
    "for e in range(n_el):\n",
    "    el = elements[e]\n",
    "\n",
    "    for i in range(el[\"n_bases\"]):\n",
    "        for j in range(el[\"n_bases\"]):\n",
    "            val = scheme.integrate(\n",
    "                lambda x:\n",
    "                el[\"phi\"][i](x) * el[\"phi\"][j](x) * el[\"grad_gmapping\"](x),\n",
    "                [0.0, 1.0])\n",
    "            \n",
    "            rows.append(el[\"loc_2_glob\"][i])\n",
    "            cols.append(el[\"loc_2_glob\"][j])\n",
    "            vals.append(val)\n",
    "\n",
    "            \n",
    "rows = np.array(rows)\n",
    "cols = np.array(cols)\n",
    "vals = np.array(vals)\n",
    "\n",
    "M = spr.coo_matrix((vals, (rows, cols)))\n",
    "M = spr.csr_matrix(M)"
   ]
  },
  {
   "cell_type": "markdown",
   "metadata": {
    "slideshow": {
     "slide_type": "slide"
    }
   },
   "source": [
    "Now we set $\\vec{f}=4$ and zero boundary conditions."
   ]
  },
  {
   "cell_type": "code",
   "execution_count": null,
   "metadata": {
    "slideshow": {
     "slide_type": "fragment"
    }
   },
   "outputs": [],
   "source": [
    "f = 4*np.ones((n_bases, 1))\n",
    "f = M*f\n",
    "\n",
    "f[0] = 0\n",
    "f[n_el] = 0"
   ]
  },
  {
   "cell_type": "markdown",
   "metadata": {
    "slideshow": {
     "slide_type": "fragment"
    }
   },
   "source": [
    "We now solve $L\\vec{u}=M\\vec{f}$ for $\\vec{u}$"
   ]
  },
  {
   "cell_type": "code",
   "execution_count": null,
   "metadata": {
    "slideshow": {
     "slide_type": "fragment"
    }
   },
   "outputs": [],
   "source": [
    "u = spsolve(L, f)"
   ]
  },
  {
   "cell_type": "code",
   "execution_count": null,
   "metadata": {
    "slideshow": {
     "slide_type": "slide"
    }
   },
   "outputs": [],
   "source": [
    "x, uinterp = interpolate(u)\n",
    "\n",
    "\n",
    "go.Figure(data=[\n",
    "    go.Scatter(x=x, y=uinterp, mode='lines', name=\"solution\"),\n",
    "    go.Scatter(x=nodes, y=u, mode='markers', name=\"$u$\"),\n",
    "])"
   ]
  },
  {
   "cell_type": "code",
   "execution_count": null,
   "metadata": {
    "slideshow": {
     "slide_type": "skip"
    }
   },
   "outputs": [],
   "source": []
  }
 ],
 "metadata": {
  "celltoolbar": "Slideshow",
  "kernelspec": {
   "display_name": "Python 3",
   "language": "python",
   "name": "python3"
  },
  "language_info": {
   "codemirror_mode": {
    "name": "ipython",
    "version": 3
   },
   "file_extension": ".py",
   "mimetype": "text/x-python",
   "name": "python",
   "nbconvert_exporter": "python",
   "pygments_lexer": "ipython3",
   "version": "3.7.3"
  }
 },
 "nbformat": 4,
 "nbformat_minor": 2
}
