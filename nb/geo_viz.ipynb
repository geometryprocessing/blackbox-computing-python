{
 "cells": [
  {
   "cell_type": "markdown",
   "metadata": {
    "slideshow": {
     "slide_type": "slide"
    }
   },
   "source": [
    "# Geometry Processing and Visualization"
   ]
  },
  {
   "cell_type": "markdown",
   "metadata": {
    "slideshow": {
     "slide_type": "fragment"
    }
   },
   "source": [
    "## Jupyter Notebook\n",
    "\n",
    "All code available as Jupyter Notebook and Binder."
   ]
  },
  {
   "cell_type": "markdown",
   "metadata": {
    "slideshow": {
     "slide_type": "fragment"
    }
   },
   "source": [
    "## Installation\n",
    "\n",
    "The libraries igl, meshplot, numpy can be installed with\n",
    "\n",
    "`conda install -c conda-forge <lib>`"
   ]
  },
  {
   "cell_type": "markdown",
   "metadata": {
    "slideshow": {
     "slide_type": "fragment"
    }
   },
   "source": [
    "## Import"
   ]
  },
  {
   "cell_type": "code",
   "execution_count": null,
   "metadata": {
    "scrolled": true,
    "slideshow": {
     "slide_type": "-"
    }
   },
   "outputs": [],
   "source": [
    "import igl\n",
    "import meshplot as mp\n",
    "import numpy as np\n",
    "\n",
    "# Switch folder to access data\n",
    "import os\n",
    "os.chdir(\"..\")"
   ]
  },
  {
   "cell_type": "markdown",
   "metadata": {
    "slideshow": {
     "slide_type": "slide"
    }
   },
   "source": [
    "## Geometry Representation"
   ]
  },
  {
   "cell_type": "markdown",
   "metadata": {
    "slideshow": {
     "slide_type": "fragment"
    }
   },
   "source": [
    "<img src=\"data/VF.png\" alt=\"A simple mesh made of 2 triangles and 4 vertices.\" width=\"800\"/>"
   ]
  },
  {
   "cell_type": "code",
   "execution_count": null,
   "metadata": {
    "scrolled": false,
    "slideshow": {
     "slide_type": "fragment"
    }
   },
   "outputs": [],
   "source": [
    "v = np.array([\n",
    "    [0., 0, 0],\n",
    "    [1, 0, 0],\n",
    "    [1, 1, 1],\n",
    "    [2, 1, 0]])\n",
    "\n",
    "f = np.array([\n",
    "    [0, 1, 2],\n",
    "    [1, 3, 2]])\n",
    "\n",
    "mp.plot(v, f)"
   ]
  },
  {
   "cell_type": "markdown",
   "metadata": {
    "slideshow": {
     "slide_type": "slide"
    }
   },
   "source": [
    "## Geometry Loading and Saving"
   ]
  },
  {
   "cell_type": "code",
   "execution_count": null,
   "metadata": {
    "scrolled": false,
    "slideshow": {
     "slide_type": "-"
    }
   },
   "outputs": [],
   "source": [
    "# Read bunny and retrieve shape\n",
    "v, f = igl.read_triangle_mesh(\"data/bunny.obj\")\n",
    "print(v.shape, f.shape)\n",
    "# Visualize bunny\n",
    "mp.plot(v, f)\n",
    "\n",
    "# Write bunny\n",
    "igl.write_triangle_mesh(\"data/bunny_new.off\", v, f)"
   ]
  },
  {
   "cell_type": "code",
   "execution_count": null,
   "metadata": {
    "slideshow": {
     "slide_type": "skip"
    }
   },
   "outputs": [],
   "source": [
    "v, f = igl.read_triangle_mesh(\"data/bunny.obj\")\n",
    "print(v.shape, f.shape)\n",
    "mp.plot(v, f)\n",
    "\n",
    "igl.write_triangle_mesh(\"bunny_out.obj\", v, f)"
   ]
  },
  {
   "cell_type": "markdown",
   "metadata": {
    "slideshow": {
     "slide_type": "slide"
    }
   },
   "source": [
    "## Visualizing Surfaces and Pointclouds"
   ]
  },
  {
   "cell_type": "code",
   "execution_count": null,
   "metadata": {
    "scrolled": false,
    "slideshow": {
     "slide_type": "-"
    }
   },
   "outputs": [],
   "source": [
    "# Visualize surface mesh and point cloud (with colors)\n",
    "mp.plot(v, f, c=v[:, 0])"
   ]
  },
  {
   "cell_type": "code",
   "execution_count": null,
   "metadata": {
    "slideshow": {
     "slide_type": "skip"
    }
   },
   "outputs": [],
   "source": [
    "mp.plot(v, c=v[:, 0])"
   ]
  },
  {
   "cell_type": "markdown",
   "metadata": {
    "slideshow": {
     "slide_type": "slide"
    }
   },
   "source": [
    "## Scalar and Vector Field Visualization - Normals"
   ]
  },
  {
   "cell_type": "code",
   "execution_count": null,
   "metadata": {
    "scrolled": false,
    "slideshow": {
     "slide_type": "fragment"
    }
   },
   "outputs": [],
   "source": [
    "nf = igl.per_face_normals(v, f, np.zeros(3))\n",
    "\n",
    "mp.plot(v, f, c=np.abs(nf), shading={\"roughness\": 1.0})"
   ]
  },
  {
   "cell_type": "code",
   "execution_count": null,
   "metadata": {
    "scrolled": false,
    "slideshow": {
     "slide_type": "fragment"
    }
   },
   "outputs": [],
   "source": [
    "nv = igl.per_vertex_normals(v, f)\n",
    "\n",
    "p = mp.plot(v, c=np.abs(nv))\n",
    "p.add_lines(v, v + nv * 5e-3)"
   ]
  },
  {
   "cell_type": "markdown",
   "metadata": {
    "slideshow": {
     "slide_type": "slide"
    }
   },
   "source": [
    "## Scalar and Vector Field Visualization - Curvature"
   ]
  },
  {
   "cell_type": "code",
   "execution_count": null,
   "metadata": {
    "slideshow": {
     "slide_type": "-"
    }
   },
   "outputs": [],
   "source": [
    "# Calculate principal curvature\n",
    "d1, d2, k1, k2 = igl.principal_curvature(v, f)\n",
    "\n",
    "# Calculate mean curvature for color coding\n",
    "mean_curv = 0.5 * (k1 + k2)\n",
    "\n",
    "p = mp.plot(v, f, c=mean_curv)"
   ]
  },
  {
   "cell_type": "code",
   "execution_count": null,
   "metadata": {
    "slideshow": {
     "slide_type": "fragment"
    }
   },
   "outputs": [],
   "source": [
    "p.add_lines(v + d1 * 2e-3, v - d1 * 2e-3, \n",
    "            shading={\"line_color\": \"red\"})\n",
    "p.add_lines(v + d2 * 2e-3, v - d2 * 2e-3, \n",
    "            shading={\"line_color\": \"yellow\"})"
   ]
  },
  {
   "cell_type": "markdown",
   "metadata": {
    "slideshow": {
     "slide_type": "slide"
    }
   },
   "source": [
    "## Saving Results and Offline Visualization"
   ]
  },
  {
   "cell_type": "code",
   "execution_count": null,
   "metadata": {
    "slideshow": {
     "slide_type": "fragment"
    }
   },
   "outputs": [],
   "source": [
    "# Save the previous result\n",
    "p.save(\"test1.html\")\n",
    "\n",
    "# Open inside notebook\n",
    "from IPython.display import HTML\n",
    "HTML(filename=\"test1.html\")"
   ]
  },
  {
   "cell_type": "markdown",
   "metadata": {
    "slideshow": {
     "slide_type": "slide"
    }
   },
   "source": [
    "## Saving Results and Offline Visualization"
   ]
  },
  {
   "cell_type": "code",
   "execution_count": null,
   "metadata": {
    "slideshow": {
     "slide_type": "fragment"
    }
   },
   "outputs": [],
   "source": [
    "# Load a new mesh\n",
    "v1, f1 = igl.read_triangle_mesh(\"data/bumpy.off\")\n",
    "\n",
    "# Switch to offline plotting\n",
    "mp.offline()\n",
    "mp.plot(v1, f1, c=np.random.rand(*f1.shape), filename=\"test2.html\")"
   ]
  },
  {
   "cell_type": "code",
   "execution_count": null,
   "metadata": {
    "slideshow": {
     "slide_type": "-"
    }
   },
   "outputs": [],
   "source": [
    "# Open inside notebook\n",
    "HTML(filename=\"test2.html\")"
   ]
  },
  {
   "cell_type": "code",
   "execution_count": null,
   "metadata": {
    "slideshow": {
     "slide_type": "skip"
    }
   },
   "outputs": [],
   "source": [
    "# Switch to jupyter plotting\n",
    "mp.jupyter()\n",
    "p = mp.plot(v, f, c=np.random.rand(*f.shape), return_plot=True)\n",
    "p.add_mesh(v + 5, f, c=v[:,1]);\n",
    "p.add_points(v - 5, c=v[:,2], shading={\"point_size\": 1.0})\n",
    "p.save(\"test3.html\")"
   ]
  },
  {
   "cell_type": "markdown",
   "metadata": {
    "slideshow": {
     "slide_type": "slide"
    }
   },
   "source": [
    "## Mesh Statistics"
   ]
  },
  {
   "cell_type": "code",
   "execution_count": null,
   "metadata": {
    "scrolled": true,
    "slideshow": {
     "slide_type": "-"
    }
   },
   "outputs": [],
   "source": [
    "v, f = igl.read_triangle_mesh(\"data/bunny.obj\")\n",
    "\n",
    "# Irregular vertices, the border is ignored\n",
    "irregular = igl.is_irregular_vertex(v, f) \n",
    "irregular_ratio = np.sum(irregular) / v.shape[0]\n",
    "print(\"Irregular vertices:\\n%d/%d (%.2f%%)\\n\"%\n",
    "      (irregular_v_count, v_count, irregular_ratio * 100))\n",
    "\n",
    "# Compute areas, min, max and std\n",
    "area = igl.doublearea(v, f) / 2.0\n",
    "area_avg = np.mean(area)\n",
    "area_min = np.min(area) / area_avg\n",
    "area_max = np.max(area) / area_avg\n",
    "area_ns = (area - area_avg) / area_avg\n",
    "area_sigma = np.sqrt(np.mean(np.square(area_ns)))\n",
    "print(\"Areas Min/Max/Sigma: \\n%.2f/%.2f/%.2f\\n\"%\n",
    "      (area_min, area_max, area_sigma))\n",
    "\n",
    "# Compute per face angles, min, max and std\n",
    "angles = igl.internal_angles(v, f)\n",
    "angles = 360.0 * (angles / (2 * np.pi))\n",
    "angle_avg = np.mean(angles)\n",
    "angle_min = np.min(angles)\n",
    "angle_max = np.max(angles)\n",
    "angle_ns = angles - angle_avg\n",
    "angle_sigma = np.sqrt(np.mean(np.square(angle_ns)))\n",
    "\n",
    "print(\"Angles in degrees Min/Max/Avg/Sigma: \\n%.2f/%.2f/%.2f/%.2f\\n\"%\n",
    "      (angle_min, angle_max, angle_avg, angle_sigma))"
   ]
  },
  {
   "cell_type": "markdown",
   "metadata": {
    "slideshow": {
     "slide_type": "-"
    }
   },
   "source": [
    "<img src=\"data/libigl-teaser.png\" alt=\"Libigl Advanced Functionality\" width=\"1600\"/>"
   ]
  },
  {
   "cell_type": "markdown",
   "metadata": {
    "slideshow": {
     "slide_type": "slide"
    }
   },
   "source": [
    "## Texture Mapping (Harmonic Parametrization)"
   ]
  },
  {
   "cell_type": "code",
   "execution_count": null,
   "metadata": {
    "slideshow": {
     "slide_type": "-"
    }
   },
   "outputs": [],
   "source": [
    "vc, fc = igl.read_triangle_mesh(\"data/camelhead.off\")\n",
    "p = mp.plot(vc, fc)\n",
    "\n",
    "# Compute and visualize boundary vertices\n",
    "bnd = igl.boundary_loop(fc)\n",
    "p.add_points(vc[bnd], shading={\"point_size\": 0.1})"
   ]
  },
  {
   "cell_type": "code",
   "execution_count": null,
   "metadata": {
    "slideshow": {
     "slide_type": "fragment"
    }
   },
   "outputs": [],
   "source": [
    "# Map boundary vertices to circle\n",
    "bnd_uv = igl.map_vertices_to_circle(vc, bnd)\n",
    "p = mp.plot(bnd_uv, shading={\"point_size\": 0.1})\n",
    "\n",
    "# Calculate harmonic weight functions and plot the mesh\n",
    "uv = igl.harmonic_weights(vc, fc, bnd, bnd_uv, 1)\n",
    "mp.plot(uv, fc, uv=uv, plot=p,\n",
    "        shading={\"wireframe\": True, \"wire_color\": \"red\"})"
   ]
  },
  {
   "cell_type": "code",
   "execution_count": null,
   "metadata": {},
   "outputs": [],
   "source": [
    "# Plot with mapped texture\n",
    "mp.plot(vc, fc, uv=uv)"
   ]
  },
  {
   "cell_type": "markdown",
   "metadata": {
    "slideshow": {
     "slide_type": "slide"
    }
   },
   "source": [
    "## Texture Mapping (Least Square Conformal Maps)"
   ]
  },
  {
   "cell_type": "code",
   "execution_count": null,
   "metadata": {
    "slideshow": {
     "slide_type": "-"
    }
   },
   "outputs": [],
   "source": [
    "# Fix two points on the boundary\n",
    "b = np.array([2, 1])\n",
    "b[0] = bnd[0]\n",
    "b[1] = bnd[int(bnd.size / 2)]\n",
    "\n",
    "bc = np.array([[0.0, 0.0], [1.0, 0.0]])\n",
    "\n",
    "# LSCM parametrization\n",
    "_, uv_l = igl.lscm(vc, fc, b, bc)\n",
    "\n",
    "mp.plot(uv_l, fc, uv=uv_l, shading={\"wireframe\": True, \"wire_color\": \"red\"})\n",
    "mp.plot(vc, fc, uv=uv_l)\n",
    "mp.plot(vc, fc, uv=uv)"
   ]
  },
  {
   "cell_type": "markdown",
   "metadata": {
    "slideshow": {
     "slide_type": "slide"
    }
   },
   "source": [
    "## Texture Mapping (As-Rigid-As-Possible)"
   ]
  },
  {
   "cell_type": "code",
   "execution_count": null,
   "metadata": {
    "slideshow": {
     "slide_type": "-"
    }
   },
   "outputs": [],
   "source": [
    "# Fix vertex 0 and use harmonic uv as initial guess\n",
    "arap = igl.ARAP(vc, fc, 2, np.zeros(0))\n",
    "uv_a = arap.solve(np.zeros((0, 0)), uv)\n",
    "\n",
    "mp.plot(uv_a, fc, uv=uv_a, shading={\"wireframe\": True, \"wire_color\": \"red\"})\n",
    "mp.plot(vc, fc, uv=uv_a,)\n",
    "mp.plot(vc, fc, uv=uv)"
   ]
  },
  {
   "cell_type": "markdown",
   "metadata": {
    "slideshow": {
     "slide_type": "slide"
    }
   },
   "source": [
    "## Shape Filtering (Laplacian Smoothing)"
   ]
  },
  {
   "cell_type": "code",
   "execution_count": null,
   "metadata": {
    "scrolled": false,
    "slideshow": {
     "slide_type": "-"
    }
   },
   "outputs": [],
   "source": [
    "from scipy.sparse.linalg import spsolve\n",
    "\n",
    "v, f = igl.read_triangle_mesh(\"data/cow.off\")\n",
    "\n",
    "l = igl.cotmatrix(v, f)\n",
    "vs = [v]\n",
    "for i in range(10):\n",
    "    m = igl.massmatrix(v,f,igl.MASSMATRIX_TYPE_BARYCENTRIC)\n",
    "    v = spsolve(m - 0.001 * l, m.dot(v))\n",
    "    vs.append(v)\n",
    "    \n",
    "p = mp.plot(vs[0], f)\n",
    "\n",
    "@mp.interact(level=(0, 10))\n",
    "def mcf(level=0):\n",
    "    p.update_object(vertices=vs[level])"
   ]
  },
  {
   "cell_type": "markdown",
   "metadata": {
    "slideshow": {
     "slide_type": "slide"
    }
   },
   "source": [
    "## Shape Filtering (Spectral Smoothing)"
   ]
  },
  {
   "cell_type": "code",
   "execution_count": null,
   "metadata": {
    "slideshow": {
     "slide_type": "-"
    }
   },
   "outputs": [],
   "source": [
    "from scipy.sparse.linalg import eigsh\n",
    "\n",
    "v, f, _ = igl.read_off(\"data/cow.off\")\n",
    "l = igl.cotmatrix(v, f)\n",
    "\n",
    "d, u = eigsh(-l, 200, which=\"SM\")\n",
    "vs = u @ u.T @ v\n",
    "\n",
    "p = mp.plot(vs, f)\n",
    "\n",
    "@mp.interact(level=(2, 200, 2))\n",
    "def mcf(level=10):\n",
    "    p.update_object(vertices=(u[:, :level] @ u[:, :level].T) @ v)"
   ]
  },
  {
   "cell_type": "markdown",
   "metadata": {
    "slideshow": {
     "slide_type": "slide"
    }
   },
   "source": [
    "## Shape Deformation (Biharmonic Deformation)"
   ]
  },
  {
   "cell_type": "code",
   "execution_count": null,
   "metadata": {
    "scrolled": true,
    "slideshow": {
     "slide_type": "-"
    }
   },
   "outputs": [],
   "source": [
    "v, f = igl.read_triangle_mesh(\"data/decimated-max.obj\")\n",
    "v[:,[0, 2]] = v[:,[2, 0]] # Swap X and Z axes\n",
    "\n",
    "s = igl.read_dmat(\"data/decimated-max-selection.dmat\")\n",
    "b = np.array([[t[0] for t in [(i, s[i]) for i in \n",
    "             range(0, v.shape[0])] if t[1] >= 0]]).T\n",
    "\n",
    "u_bc = np.zeros((b.shape[0], v.shape[1]))\n",
    "v_bc = np.zeros((b.shape[0], v.shape[1]))\n",
    "\n",
    "for bi in range(b.shape[0]):\n",
    "    v_bc[bi] = v[b[bi]]\n",
    "    if s[b[bi]] == 0: # Don't move handle 0\n",
    "        u_bc[bi] = v[b[bi]]\n",
    "    elif s[b[bi]] == 1: # Move handle 1 down\n",
    "        u_bc[bi] = v[b[bi]] + np.array([[0, -50, 0]])\n",
    "    else: # Move other handles forward\n",
    "        u_bc[bi] = v[b[bi]] + np.array([[-25, 0, 0]])\n",
    "\n",
    "p = mp.plot(v, f, -s)\n",
    "\n",
    "@mp.interact(step=(0.0, 1.0))\n",
    "def update(step=0.0):\n",
    "    d_bc = step * (u_bc - v_bc)\n",
    "    d = igl.harmonic_weights(v, f, b, d_bc, 2)\n",
    "    p.update_object(vertices=v+d)"
   ]
  },
  {
   "cell_type": "markdown",
   "metadata": {
    "slideshow": {
     "slide_type": "slide"
    }
   },
   "source": [
    "## Shape Deformation (As-Rigid-As-Possible)"
   ]
  },
  {
   "cell_type": "code",
   "execution_count": null,
   "metadata": {
    "slideshow": {
     "slide_type": "-"
    }
   },
   "outputs": [],
   "source": [
    "v, f = igl.read_triangle_mesh(\"data/decimated-knight.off\")\n",
    "s = igl.read_dmat(\"data/decimated-knight-selection.dmat\")\n",
    "\n",
    "# Vertices in selection\n",
    "b = np.array([[t[0] for t in [(i, s[i]) for i in \n",
    "            range(0, v.shape[0])] if t[1] >= 0]]).T\n",
    "\n",
    "arap = igl.ARAP(v, f, 3, b)\n",
    "\n",
    "# Set color based on selection\n",
    "c = np.ones_like(f) * np.array([1.0, 228/255, 58/255])\n",
    "for fi in range(0, f.shape[0]):\n",
    "    if np.all(s[f[fi]] >= np.array([0, 0, 0])):\n",
    "        c[fi] = np.array([80/255, 64/255, 1.0])\n",
    "\n",
    "p = mp.plot(v, f, c)\n",
    "\n",
    "@mp.interact(t=(0.0, 10.0))\n",
    "def u,pdate(t=0.0):\n",
    "    bc = np.zeros((b.size, v.shape[1]))\n",
    "    for i in range(0, b.size):\n",
    "  ,      bc[i] = v[b[i]],\n",
    "        i,f s[b[i]] == 0:\n",
    "            bc[i, 0] += t * 0.02 - 0.12\n",
    "        elif s[b[i]] == 1:,\n",
    "            bc[i, 1] += 0.01 * t\n",
    "\n",
    "    vn = arap.solve(bc, v)\n",
    "    p.update_object(vertices=vn)"
   ]
  },
  {
   "cell_type": "markdown",
   "metadata": {
    "slideshow": {
     "slide_type": "slide"
    }
   },
   "source": [
    "## Various Examples (Eigendecomposition)"
   ]
  },
  {
   "cell_type": "code",
   "execution_count": null,
   "metadata": {
    "scrolled": false,
    "slideshow": {
     "slide_type": "-"
    }
   },
   "outputs": [],
   "source": [
    "from scipy.sparse.linalg import eigsh\n",
    "\n",
    "v, f, _ = igl.read_off(\"data/beetle.off\")\n",
    "l = -igl.cotmatrix(v, f)\n",
    "d, u = eigsh(l, 10, sigma=0, which=\"LM\")\n",
    "\n",
    "p = mp.plot(v, f, u[:, 0])\n",
    "\n",
    "@mp.interact(ev=[(\"EV %i\"%i, i) for i in range(10)])\n",
    "def sf(ev):\n",
    "    p.update_object(colors=u[:, ev])"
   ]
  },
  {
   "cell_type": "markdown",
   "metadata": {
    "slideshow": {
     "slide_type": "slide"
    }
   },
   "source": [
    "## Various Examples (Exact Geodesics)"
   ]
  },
  {
   "cell_type": "code",
   "execution_count": null,
   "metadata": {
    "slideshow": {
     "slide_type": "-"
    }
   },
   "outputs": [],
   "source": [
    "v, f = igl.read_triangle_mesh(\"data/bunny.obj\")\n",
    "\n",
    "# Select a vertex as origin\n",
    "vs = np.array([0])\n",
    "\n",
    "# All vertices are the targets\n",
    "vt = np.arange(v.shape[0])\n",
    "\n",
    "d = igl.exact_geodesic(v, f, vs, vt)\n",
    "\n",
    "# Visualize with periodic function\n",
    "c = np.abs(np.sin((d / 0.03 * np.pi)))\n",
    "p = mp.plot(v, f, c)\n",
    "p.add_points(v[vs], shading={\"point_size\": 0.05})"
   ]
  },
  {
   "cell_type": "markdown",
   "metadata": {
    "slideshow": {
     "slide_type": "slide"
    }
   },
   "source": [
    "## Various Examples (Ambient Occlusion)"
   ]
  },
  {
   "cell_type": "code",
   "execution_count": null,
   "metadata": {
    "slideshow": {
     "slide_type": "-"
    }
   },
   "outputs": [],
   "source": [
    "v, f = igl.read_triangle_mesh(\"data/fertility.off\")\n",
    "\n",
    "n = igl.per_vertex_normals(v, f)\n",
    "\n",
    "# Compute ambient occlusion factor using embree\n",
    "ao = igl.ambient_occlusion(v, f, v, n, 50)\n",
    "ao = 1.0 - ao\n",
    "\n",
    "mp.plot(v, f, ao, shading={\"colormap\": \"gist_gray\"})"
   ]
  },
  {
   "cell_type": "markdown",
   "metadata": {
    "slideshow": {
     "slide_type": "slide"
    }
   },
   "source": [
    "## Various Examples (Subdivision Surfaces)"
   ]
  },
  {
   "cell_type": "code",
   "execution_count": null,
   "metadata": {
    "slideshow": {
     "slide_type": "-"
    }
   },
   "outputs": [],
   "source": [
    "ov, of = igl.read_triangle_mesh(\"data/decimated-knight.off\")\n",
    "uv, uf = igl.upsample(ov, of)\n",
    "lv, lf = igl.loop(ov, of)\n",
    "\n",
    "p = mp.plot(ov, of, shading={\"wireframe\": True})\n",
    "\n",
    "@mp.interact(mode=['Coarse','Upsample', 'Loop'])\n",
    "def switch(mode):\n",
    "    if mode == \"Coarse\":\n",
    "        mp.plot(ov, of, shading={\"wireframe\": True}, plot=p)\n",
    "    if mode == \"Upsample\":\n",
    "        mp.plot(uv, uf, shading={\"wireframe\": True}, plot=p)\n",
    "    if mode == \"Loop\":\n",
    "        mp.plot(lv, lf, shading={\"wireframe\": True}, plot=p)"
   ]
  }
 ],
 "metadata": {
  "kernelspec": {
   "display_name": "Python 3",
   "language": "python",
   "name": "python3"
  },
  "language_info": {
   "codemirror_mode": {
    "name": "ipython",
    "version": 3
   },
   "file_extension": ".py",
   "mimetype": "text/x-python",
   "name": "python",
   "nbconvert_exporter": "python",
   "pygments_lexer": "ipython3",
   "version": "3.8.2"
  },
  "rise": {
   "center": false,
   "progress": false,
   "scroll": true,
   "slidenumber": false,
   "theme": "while",
   "transition": "none"
  }
 },
 "nbformat": 4,
 "nbformat_minor": 2
}
